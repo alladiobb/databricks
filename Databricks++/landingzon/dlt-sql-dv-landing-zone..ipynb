{
 "cells": [
  {
   "cell_type": "code",
   "execution_count": null,
   "id": "2a06b122",
   "metadata": {
    "vscode": {
     "languageId": "plaintext"
    }
   },
   "outputs": [],
   "source": [
    "CREATE OR REFRESH STREAMING TABLE bronze_mssql_users\n",
    "AS SELECT *, _metadata.file_path AS source_file_path FROM STREAM read_files(\n",
    "    'dbfs:/mnt/owshq-stg-files/com.owshq.data/mssql/users/',\n",
    "    format => 'json'\n",
    ")"
   ]
  },
  {
   "cell_type": "code",
   "execution_count": null,
   "id": "2f1dfecf",
   "metadata": {
    "vscode": {
     "languageId": "plaintext"
    }
   },
   "outputs": [],
   "source": []
  }
 ],
 "metadata": {
  "language_info": {
   "name": "python"
  }
 },
 "nbformat": 4,
 "nbformat_minor": 5
}
